{
  "nbformat": 4,
  "nbformat_minor": 0,
  "metadata": {
    "colab": {
      "name": "finalproject.ipynb",
      "provenance": [],
      "include_colab_link": true
    },
    "kernelspec": {
      "name": "python3",
      "display_name": "Python 3"
    },
    "language_info": {
      "name": "python"
    }
  },
  "cells": [
    {
      "cell_type": "markdown",
      "metadata": {
        "id": "view-in-github",
        "colab_type": "text"
      },
      "source": [
        "<a href=\"https://colab.research.google.com/github/VejayPersaud/Microbiome_Data/blob/main/finalproject.ipynb\" target=\"_parent\"><img src=\"https://colab.research.google.com/assets/colab-badge.svg\" alt=\"Open In Colab\"/></a>"
      ]
    },
    {
      "cell_type": "markdown",
      "metadata": {
        "id": "lOY8dbu52Z2H"
      },
      "source": [
        "# microbiome disease prediction with transformers\n",
        "\n",
        "The final course project is designed to be an open-ended and 'creative' analysis of microbial community data, with the goal of training a model to predict autoimmune disease risk from microbiome data.\n",
        "\n",
        "The data intake and packaging pipeline is coded for you in the following code cell; it includes the addition of 'location' information in the sequence data, so it can be directly used in transformer models.\n",
        "\n",
        "We will be using the same microbial community data that was used in week 12, and you will be required to implement a transformer model similar to the one we implemented in week 13, so you may want to review the material from those weeks before getting started.\n",
        "\n",
        "But this final project is a chance for you to 'play around' with *all* the various tools and techniques we've looked at throughout this course, so take a little time to reflect on some of the problems and approaches we've worked on; these are all 'tools' you can use for data analysis.\n",
        "\n",
        "The grade for the final project will be based on a structured 'write up' of what you do in this jupyter notebook. This is a chance for you to explore the concepts and techniques we've introduced in this course in more detail, and get points for doing so. So think creatively!\n",
        "\n",
        "I'd recommend exploring ideas and analysis options by conducting a series of 'experiments' or data analyses. In each 'experiment', you make a *change* to *how* you are analyzing the data. You might use a different optimizer, or add another layer to your network. *Which* changes you make should be guided by *questions* or *problems* you encounter. For example, your model's accuracy might be low, and you might try to *improve* accuracy by adding a new layer to your network. For another example, if you observe overfitting in your model, you might try adding a regularizer to reduce overfitting. You then observe the *effect* of each change you make on the data analysis, so you can evaluate what the change does. For example, does adding another layer to the network improve accuracy? Does it also increase overfitting?\n",
        "\n",
        "For each 'experiment' you conduct in this notebook, you'll want to keep track of the following information:\n",
        "\n",
        "1. What *question* is the experiment or analysis trying to answer? What do you want to *know* by doing the analysis or experiment?\n",
        "2. What exactly did you *do*? What changes did you make that you want to assess?\n",
        "3. What happened? What information or 'data' was collected during your analysis or experiment?\n",
        "4. What did the 'results' of your experiment or analysis *tell you* that is *relevant* to answering the question that prompted you to perform this experiment or analysis?\n",
        "\n",
        "Every time you do an analysis or change something about the way you are modeling or analyzing the data, keep track of your answers to questions 1-4 above, and then you can use that information for your final project write up."
      ]
    },
    {
      "cell_type": "code",
      "metadata": {
        "id": "hhTYvt3Z2Y5K",
        "colab": {
          "base_uri": "https://localhost:8080/"
        },
        "outputId": "bfb50b2c-3d58-4843-a4ce-18ec55bbc5af"
      },
      "source": [
        "import pandas\n",
        "import numpy as np\n",
        "import tensorflow as tf\n",
        "\n",
        "# download data\n",
        "dataframe = pandas.read_csv('https://raw.githubusercontent.com/bryankolaczkowski/ALS3200C/main/mbiome.data.csv')\n",
        "\n",
        "\n",
        "# create train-validate split\n",
        "train_dataframe = dataframe.sample(frac=0.8, random_state=827847)\n",
        "valid_dataframe = dataframe.drop(train_dataframe.index)\n",
        "\n",
        "# extract explanatory variables\n",
        "dta_ids = [ x for x in dataframe.columns if x.find('DTA') == 0 ]\n",
        "train_x = train_dataframe[dta_ids].to_numpy()\n",
        "valid_x = valid_dataframe[dta_ids].to_numpy()\n",
        "\n",
        "# add 'location' to sequence data\n",
        "loc = np.linspace(start=-2.5, stop=+2.5, num=train_x.shape[1])\n",
        "train_x = np.stack([ train_x, np.array([loc]*train_x.shape[0]) ], axis=-1)\n",
        "valid_x = np.stack([ valid_x, np.array([loc]*valid_x.shape[0]) ], axis=-1)\n",
        "\n",
        "# extract labels\n",
        "train_y = train_dataframe['LBL0'].to_numpy()\n",
        "valid_y = valid_dataframe['LBL0'].to_numpy()\n",
        "\n",
        "# package data into tensorflow dataset\n",
        "train_data = tf.data.Dataset.from_tensor_slices((train_x, train_y)).batch(32)\n",
        "valid_data = tf.data.Dataset.from_tensor_slices((valid_x, valid_y)).batch(32)\n",
        "\n",
        "print(train_data, valid_data)"
      ],
      "execution_count": 4,
      "outputs": [
        {
          "output_type": "stream",
          "name": "stdout",
          "text": [
            "<_BatchDataset element_spec=(TensorSpec(shape=(None, 256, 2), dtype=tf.float64, name=None), TensorSpec(shape=(None,), dtype=tf.float64, name=None))> <_BatchDataset element_spec=(TensorSpec(shape=(None, 256, 2), dtype=tf.float64, name=None), TensorSpec(shape=(None,), dtype=tf.float64, name=None))>\n"
          ]
        }
      ]
    },
    {
      "cell_type": "markdown",
      "metadata": {
        "id": "uAxsaZVb3VgO"
      },
      "source": [
        "From the Dataset information printed to the screen, you can see that the shape of your input data is (256,2). You might also want to note that you have a binary classification problem.\n",
        "\n",
        "The data intake and packaging pipeline is reproduced in the following code cell. Your job is to implement the code that builds, compiles and fits a transformer model to these data, including model evaluation.\n",
        "\n",
        "I'd recommend starting with a very 'simple' transformer model, to get a baseline accuracy measurement.\n",
        "\n",
        "You might also want to try changing the random seed used to create the train-validate data split, so you can evaluate your model's accuracy using *different* train-validate splits. For example, if you *average* your accuracy measurements over *many different* train-validate splits, you'll probably get a better estimate of your model's *expected* accuracy (this is called \"cross-validation\", and it is commonly used in machine learning).\n",
        "\n",
        "You might also want to try changing the number of epochs used for training, to see how short you can make your training runs, while still training your model 'to convergence' (ie, stable loss values). You could also try using different optimizers, to see if that impacts how long you need to train your model.\n",
        "\n",
        "After you get a good 'feeling' for the behaviour of your 'baseline' transformer model for this problem, try altering the model in various ways, and observe the impact on training time and accuracy. For example, you will probably want to try changing the dimensionality of the internal data representation in your model. You will probably also want to try changing the number of attention 'heads' in your multi-head attention layer. You could also try removing the normalization layers in your model, to see if layer normalization is needed.\n",
        "\n",
        "You may also want to try replicating the *entire* transformer block multiple times; try creating a model with 2 or 4 sequential transformer blocks, one after the other, before the decision layers. At what point does your model become 'too complex' and start 'overfitting' the training data? Does adding dropout or regularization help control overfitting in your transformer model?\n",
        "\n",
        "Make sure you keep track of each change you try, and the effect of the various changes. Remember that you can add new text and code cells to this jupyter notebook, so you could replicate the code cell below to try out different things, and add text cells to keep notes of what you are trying out, why and the results of each 'experiment'.\n",
        "\n",
        "Finally, you might want to consider comparing the transformer model to alternative sequence models for this problem. How does the transformer model's accuracy compare to the accuracy of a Conv1D or LSTM model? Which models are faster to train? Which models have more trainable parameters? Are any models inherently more/less susceptible to overfitting? You might want to also try testing variants of Conv1D and LSTM that *include* the linear projection layer that projects your data into a high-dimensional representational space, so the results are more 'comparable' between the transformer and the other sequence models."
      ]
    },
    {
      "cell_type": "markdown",
      "source": [
        "Baseline Model"
      ],
      "metadata": {
        "id": "F-V0j9ZJZcu2"
      }
    },
    {
      "cell_type": "code",
      "metadata": {
        "id": "-lfUJnUu3WHz",
        "colab": {
          "base_uri": "https://localhost:8080/",
          "height": 1000
        },
        "outputId": "b474921c-601b-47d4-a896-b7a89fca7f8c"
      },
      "source": [
        "import pandas\n",
        "import numpy as np\n",
        "import tensorflow as tf\n",
        "\n",
        "# download data\n",
        "dataframe = pandas.read_csv('https://raw.githubusercontent.com/bryankolaczkowski/ALS3200C/main/mbiome.data.csv')\n",
        "\n",
        "# create train-validate split\n",
        "train_dataframe = dataframe.sample(frac=0.8, random_state=827847)\n",
        "valid_dataframe = dataframe.drop(train_dataframe.index)\n",
        "\n",
        "# extract explanatory variables\n",
        "dta_ids = [ x for x in dataframe.columns if x.find('DTA') == 0 ]\n",
        "train_x = train_dataframe[dta_ids].to_numpy()\n",
        "valid_x = valid_dataframe[dta_ids].to_numpy()\n",
        "\n",
        "# add 'location' to sequence data\n",
        "loc = np.linspace(start=-2.5, stop=+2.5, num=train_x.shape[1])\n",
        "train_x = np.stack([ train_x, np.array([loc]*train_x.shape[0]) ], axis=-1)\n",
        "valid_x = np.stack([ valid_x, np.array([loc]*valid_x.shape[0]) ], axis=-1)\n",
        "\n",
        "# extract labels\n",
        "train_y = train_dataframe['LBL0'].to_numpy()\n",
        "valid_y = valid_dataframe['LBL0'].to_numpy()\n",
        "\n",
        "# package data into tensorflow dataset\n",
        "train_data = tf.data.Dataset.from_tensor_slices((train_x, train_y)).batch(32)\n",
        "valid_data = tf.data.Dataset.from_tensor_slices((valid_x, valid_y)).batch(32)\n",
        "\n",
        "## build model\n",
        "repdim = 4  # internal representational dimensionality\n",
        "\n",
        "# input and linear projection\n",
        "inlayer = tf.keras.Input(shape=(256,2))\n",
        "proj    = tf.keras.layers.Dense(units=repdim)(inlayer)\n",
        "\n",
        "# multi‑head attention block\n",
        "mha1 = tf.keras.layers.MultiHeadAttention(num_heads=1, key_dim=repdim)(proj, proj, proj)\n",
        "res1 = tf.keras.layers.Add()([proj, mha1])\n",
        "nrm1 = tf.keras.layers.LayerNormalization()(res1)\n",
        "\n",
        "# feed‑forward block\n",
        "ffa1 = tf.keras.layers.Dense(units=repdim, activation=tf.keras.activations.relu)(nrm1)\n",
        "ffb1 = tf.keras.layers.Dense(units=repdim)(ffa1)\n",
        "res2 = tf.keras.layers.Add()([nrm1, ffb1])\n",
        "nrm2 = tf.keras.layers.LayerNormalization()(res2)\n",
        "\n",
        "# classification block\n",
        "flt     = tf.keras.layers.Flatten()(nrm2)\n",
        "outlayer = tf.keras.layers.Dense(units=1, activation=tf.keras.activations.sigmoid)(flt)\n",
        "\n",
        "model = tf.keras.Model(inputs=inlayer, outputs=outlayer)\n",
        "\n",
        "model.summary()\n",
        "\n",
        "## compile model\n",
        "model.compile(optimizer=tf.keras.optimizers.Adam(),\n",
        "              loss=tf.keras.losses.BinaryCrossentropy(),\n",
        "              metrics=['accuracy'])\n",
        "\n",
        "## fit model\n",
        "history = model.fit(train_data,\n",
        "                    epochs=20,\n",
        "                    validation_data=valid_data)"
      ],
      "execution_count": 7,
      "outputs": [
        {
          "output_type": "display_data",
          "data": {
            "text/plain": [
              "\u001b[1mModel: \"functional_2\"\u001b[0m\n"
            ],
            "text/html": [
              "<pre style=\"white-space:pre;overflow-x:auto;line-height:normal;font-family:Menlo,'DejaVu Sans Mono',consolas,'Courier New',monospace\"><span style=\"font-weight: bold\">Model: \"functional_2\"</span>\n",
              "</pre>\n"
            ]
          },
          "metadata": {}
        },
        {
          "output_type": "display_data",
          "data": {
            "text/plain": [
              "┏━━━━━━━━━━━━━━━━━━━━━┳━━━━━━━━━━━━━━━━━━━┳━━━━━━━━━━━━┳━━━━━━━━━━━━━━━━━━━┓\n",
              "┃\u001b[1m \u001b[0m\u001b[1mLayer (type)       \u001b[0m\u001b[1m \u001b[0m┃\u001b[1m \u001b[0m\u001b[1mOutput Shape     \u001b[0m\u001b[1m \u001b[0m┃\u001b[1m \u001b[0m\u001b[1m   Param #\u001b[0m\u001b[1m \u001b[0m┃\u001b[1m \u001b[0m\u001b[1mConnected to     \u001b[0m\u001b[1m \u001b[0m┃\n",
              "┡━━━━━━━━━━━━━━━━━━━━━╇━━━━━━━━━━━━━━━━━━━╇━━━━━━━━━━━━╇━━━━━━━━━━━━━━━━━━━┩\n",
              "│ input_layer_2       │ (\u001b[38;5;45mNone\u001b[0m, \u001b[38;5;34m256\u001b[0m, \u001b[38;5;34m2\u001b[0m)    │          \u001b[38;5;34m0\u001b[0m │ -                 │\n",
              "│ (\u001b[38;5;33mInputLayer\u001b[0m)        │                   │            │                   │\n",
              "├─────────────────────┼───────────────────┼────────────┼───────────────────┤\n",
              "│ dense_8 (\u001b[38;5;33mDense\u001b[0m)     │ (\u001b[38;5;45mNone\u001b[0m, \u001b[38;5;34m256\u001b[0m, \u001b[38;5;34m4\u001b[0m)    │         \u001b[38;5;34m12\u001b[0m │ input_layer_2[\u001b[38;5;34m0\u001b[0m]… │\n",
              "├─────────────────────┼───────────────────┼────────────┼───────────────────┤\n",
              "│ multi_head_attenti… │ (\u001b[38;5;45mNone\u001b[0m, \u001b[38;5;34m256\u001b[0m, \u001b[38;5;34m4\u001b[0m)    │         \u001b[38;5;34m80\u001b[0m │ dense_8[\u001b[38;5;34m0\u001b[0m][\u001b[38;5;34m0\u001b[0m],    │\n",
              "│ (\u001b[38;5;33mMultiHeadAttentio…\u001b[0m │                   │            │ dense_8[\u001b[38;5;34m0\u001b[0m][\u001b[38;5;34m0\u001b[0m],    │\n",
              "│                     │                   │            │ dense_8[\u001b[38;5;34m0\u001b[0m][\u001b[38;5;34m0\u001b[0m]     │\n",
              "├─────────────────────┼───────────────────┼────────────┼───────────────────┤\n",
              "│ add_4 (\u001b[38;5;33mAdd\u001b[0m)         │ (\u001b[38;5;45mNone\u001b[0m, \u001b[38;5;34m256\u001b[0m, \u001b[38;5;34m4\u001b[0m)    │          \u001b[38;5;34m0\u001b[0m │ dense_8[\u001b[38;5;34m0\u001b[0m][\u001b[38;5;34m0\u001b[0m],    │\n",
              "│                     │                   │            │ multi_head_atten… │\n",
              "├─────────────────────┼───────────────────┼────────────┼───────────────────┤\n",
              "│ layer_normalizatio… │ (\u001b[38;5;45mNone\u001b[0m, \u001b[38;5;34m256\u001b[0m, \u001b[38;5;34m4\u001b[0m)    │          \u001b[38;5;34m8\u001b[0m │ add_4[\u001b[38;5;34m0\u001b[0m][\u001b[38;5;34m0\u001b[0m]       │\n",
              "│ (\u001b[38;5;33mLayerNormalizatio…\u001b[0m │                   │            │                   │\n",
              "├─────────────────────┼───────────────────┼────────────┼───────────────────┤\n",
              "│ dense_9 (\u001b[38;5;33mDense\u001b[0m)     │ (\u001b[38;5;45mNone\u001b[0m, \u001b[38;5;34m256\u001b[0m, \u001b[38;5;34m4\u001b[0m)    │         \u001b[38;5;34m20\u001b[0m │ layer_normalizat… │\n",
              "├─────────────────────┼───────────────────┼────────────┼───────────────────┤\n",
              "│ dense_10 (\u001b[38;5;33mDense\u001b[0m)    │ (\u001b[38;5;45mNone\u001b[0m, \u001b[38;5;34m256\u001b[0m, \u001b[38;5;34m4\u001b[0m)    │         \u001b[38;5;34m20\u001b[0m │ dense_9[\u001b[38;5;34m0\u001b[0m][\u001b[38;5;34m0\u001b[0m]     │\n",
              "├─────────────────────┼───────────────────┼────────────┼───────────────────┤\n",
              "│ add_5 (\u001b[38;5;33mAdd\u001b[0m)         │ (\u001b[38;5;45mNone\u001b[0m, \u001b[38;5;34m256\u001b[0m, \u001b[38;5;34m4\u001b[0m)    │          \u001b[38;5;34m0\u001b[0m │ layer_normalizat… │\n",
              "│                     │                   │            │ dense_10[\u001b[38;5;34m0\u001b[0m][\u001b[38;5;34m0\u001b[0m]    │\n",
              "├─────────────────────┼───────────────────┼────────────┼───────────────────┤\n",
              "│ layer_normalizatio… │ (\u001b[38;5;45mNone\u001b[0m, \u001b[38;5;34m256\u001b[0m, \u001b[38;5;34m4\u001b[0m)    │          \u001b[38;5;34m8\u001b[0m │ add_5[\u001b[38;5;34m0\u001b[0m][\u001b[38;5;34m0\u001b[0m]       │\n",
              "│ (\u001b[38;5;33mLayerNormalizatio…\u001b[0m │                   │            │                   │\n",
              "├─────────────────────┼───────────────────┼────────────┼───────────────────┤\n",
              "│ flatten_2 (\u001b[38;5;33mFlatten\u001b[0m) │ (\u001b[38;5;45mNone\u001b[0m, \u001b[38;5;34m1024\u001b[0m)      │          \u001b[38;5;34m0\u001b[0m │ layer_normalizat… │\n",
              "├─────────────────────┼───────────────────┼────────────┼───────────────────┤\n",
              "│ dense_11 (\u001b[38;5;33mDense\u001b[0m)    │ (\u001b[38;5;45mNone\u001b[0m, \u001b[38;5;34m1\u001b[0m)         │      \u001b[38;5;34m1,025\u001b[0m │ flatten_2[\u001b[38;5;34m0\u001b[0m][\u001b[38;5;34m0\u001b[0m]   │\n",
              "└─────────────────────┴───────────────────┴────────────┴───────────────────┘\n"
            ],
            "text/html": [
              "<pre style=\"white-space:pre;overflow-x:auto;line-height:normal;font-family:Menlo,'DejaVu Sans Mono',consolas,'Courier New',monospace\">┏━━━━━━━━━━━━━━━━━━━━━┳━━━━━━━━━━━━━━━━━━━┳━━━━━━━━━━━━┳━━━━━━━━━━━━━━━━━━━┓\n",
              "┃<span style=\"font-weight: bold\"> Layer (type)        </span>┃<span style=\"font-weight: bold\"> Output Shape      </span>┃<span style=\"font-weight: bold\">    Param # </span>┃<span style=\"font-weight: bold\"> Connected to      </span>┃\n",
              "┡━━━━━━━━━━━━━━━━━━━━━╇━━━━━━━━━━━━━━━━━━━╇━━━━━━━━━━━━╇━━━━━━━━━━━━━━━━━━━┩\n",
              "│ input_layer_2       │ (<span style=\"color: #00d7ff; text-decoration-color: #00d7ff\">None</span>, <span style=\"color: #00af00; text-decoration-color: #00af00\">256</span>, <span style=\"color: #00af00; text-decoration-color: #00af00\">2</span>)    │          <span style=\"color: #00af00; text-decoration-color: #00af00\">0</span> │ -                 │\n",
              "│ (<span style=\"color: #0087ff; text-decoration-color: #0087ff\">InputLayer</span>)        │                   │            │                   │\n",
              "├─────────────────────┼───────────────────┼────────────┼───────────────────┤\n",
              "│ dense_8 (<span style=\"color: #0087ff; text-decoration-color: #0087ff\">Dense</span>)     │ (<span style=\"color: #00d7ff; text-decoration-color: #00d7ff\">None</span>, <span style=\"color: #00af00; text-decoration-color: #00af00\">256</span>, <span style=\"color: #00af00; text-decoration-color: #00af00\">4</span>)    │         <span style=\"color: #00af00; text-decoration-color: #00af00\">12</span> │ input_layer_2[<span style=\"color: #00af00; text-decoration-color: #00af00\">0</span>]… │\n",
              "├─────────────────────┼───────────────────┼────────────┼───────────────────┤\n",
              "│ multi_head_attenti… │ (<span style=\"color: #00d7ff; text-decoration-color: #00d7ff\">None</span>, <span style=\"color: #00af00; text-decoration-color: #00af00\">256</span>, <span style=\"color: #00af00; text-decoration-color: #00af00\">4</span>)    │         <span style=\"color: #00af00; text-decoration-color: #00af00\">80</span> │ dense_8[<span style=\"color: #00af00; text-decoration-color: #00af00\">0</span>][<span style=\"color: #00af00; text-decoration-color: #00af00\">0</span>],    │\n",
              "│ (<span style=\"color: #0087ff; text-decoration-color: #0087ff\">MultiHeadAttentio…</span> │                   │            │ dense_8[<span style=\"color: #00af00; text-decoration-color: #00af00\">0</span>][<span style=\"color: #00af00; text-decoration-color: #00af00\">0</span>],    │\n",
              "│                     │                   │            │ dense_8[<span style=\"color: #00af00; text-decoration-color: #00af00\">0</span>][<span style=\"color: #00af00; text-decoration-color: #00af00\">0</span>]     │\n",
              "├─────────────────────┼───────────────────┼────────────┼───────────────────┤\n",
              "│ add_4 (<span style=\"color: #0087ff; text-decoration-color: #0087ff\">Add</span>)         │ (<span style=\"color: #00d7ff; text-decoration-color: #00d7ff\">None</span>, <span style=\"color: #00af00; text-decoration-color: #00af00\">256</span>, <span style=\"color: #00af00; text-decoration-color: #00af00\">4</span>)    │          <span style=\"color: #00af00; text-decoration-color: #00af00\">0</span> │ dense_8[<span style=\"color: #00af00; text-decoration-color: #00af00\">0</span>][<span style=\"color: #00af00; text-decoration-color: #00af00\">0</span>],    │\n",
              "│                     │                   │            │ multi_head_atten… │\n",
              "├─────────────────────┼───────────────────┼────────────┼───────────────────┤\n",
              "│ layer_normalizatio… │ (<span style=\"color: #00d7ff; text-decoration-color: #00d7ff\">None</span>, <span style=\"color: #00af00; text-decoration-color: #00af00\">256</span>, <span style=\"color: #00af00; text-decoration-color: #00af00\">4</span>)    │          <span style=\"color: #00af00; text-decoration-color: #00af00\">8</span> │ add_4[<span style=\"color: #00af00; text-decoration-color: #00af00\">0</span>][<span style=\"color: #00af00; text-decoration-color: #00af00\">0</span>]       │\n",
              "│ (<span style=\"color: #0087ff; text-decoration-color: #0087ff\">LayerNormalizatio…</span> │                   │            │                   │\n",
              "├─────────────────────┼───────────────────┼────────────┼───────────────────┤\n",
              "│ dense_9 (<span style=\"color: #0087ff; text-decoration-color: #0087ff\">Dense</span>)     │ (<span style=\"color: #00d7ff; text-decoration-color: #00d7ff\">None</span>, <span style=\"color: #00af00; text-decoration-color: #00af00\">256</span>, <span style=\"color: #00af00; text-decoration-color: #00af00\">4</span>)    │         <span style=\"color: #00af00; text-decoration-color: #00af00\">20</span> │ layer_normalizat… │\n",
              "├─────────────────────┼───────────────────┼────────────┼───────────────────┤\n",
              "│ dense_10 (<span style=\"color: #0087ff; text-decoration-color: #0087ff\">Dense</span>)    │ (<span style=\"color: #00d7ff; text-decoration-color: #00d7ff\">None</span>, <span style=\"color: #00af00; text-decoration-color: #00af00\">256</span>, <span style=\"color: #00af00; text-decoration-color: #00af00\">4</span>)    │         <span style=\"color: #00af00; text-decoration-color: #00af00\">20</span> │ dense_9[<span style=\"color: #00af00; text-decoration-color: #00af00\">0</span>][<span style=\"color: #00af00; text-decoration-color: #00af00\">0</span>]     │\n",
              "├─────────────────────┼───────────────────┼────────────┼───────────────────┤\n",
              "│ add_5 (<span style=\"color: #0087ff; text-decoration-color: #0087ff\">Add</span>)         │ (<span style=\"color: #00d7ff; text-decoration-color: #00d7ff\">None</span>, <span style=\"color: #00af00; text-decoration-color: #00af00\">256</span>, <span style=\"color: #00af00; text-decoration-color: #00af00\">4</span>)    │          <span style=\"color: #00af00; text-decoration-color: #00af00\">0</span> │ layer_normalizat… │\n",
              "│                     │                   │            │ dense_10[<span style=\"color: #00af00; text-decoration-color: #00af00\">0</span>][<span style=\"color: #00af00; text-decoration-color: #00af00\">0</span>]    │\n",
              "├─────────────────────┼───────────────────┼────────────┼───────────────────┤\n",
              "│ layer_normalizatio… │ (<span style=\"color: #00d7ff; text-decoration-color: #00d7ff\">None</span>, <span style=\"color: #00af00; text-decoration-color: #00af00\">256</span>, <span style=\"color: #00af00; text-decoration-color: #00af00\">4</span>)    │          <span style=\"color: #00af00; text-decoration-color: #00af00\">8</span> │ add_5[<span style=\"color: #00af00; text-decoration-color: #00af00\">0</span>][<span style=\"color: #00af00; text-decoration-color: #00af00\">0</span>]       │\n",
              "│ (<span style=\"color: #0087ff; text-decoration-color: #0087ff\">LayerNormalizatio…</span> │                   │            │                   │\n",
              "├─────────────────────┼───────────────────┼────────────┼───────────────────┤\n",
              "│ flatten_2 (<span style=\"color: #0087ff; text-decoration-color: #0087ff\">Flatten</span>) │ (<span style=\"color: #00d7ff; text-decoration-color: #00d7ff\">None</span>, <span style=\"color: #00af00; text-decoration-color: #00af00\">1024</span>)      │          <span style=\"color: #00af00; text-decoration-color: #00af00\">0</span> │ layer_normalizat… │\n",
              "├─────────────────────┼───────────────────┼────────────┼───────────────────┤\n",
              "│ dense_11 (<span style=\"color: #0087ff; text-decoration-color: #0087ff\">Dense</span>)    │ (<span style=\"color: #00d7ff; text-decoration-color: #00d7ff\">None</span>, <span style=\"color: #00af00; text-decoration-color: #00af00\">1</span>)         │      <span style=\"color: #00af00; text-decoration-color: #00af00\">1,025</span> │ flatten_2[<span style=\"color: #00af00; text-decoration-color: #00af00\">0</span>][<span style=\"color: #00af00; text-decoration-color: #00af00\">0</span>]   │\n",
              "└─────────────────────┴───────────────────┴────────────┴───────────────────┘\n",
              "</pre>\n"
            ]
          },
          "metadata": {}
        },
        {
          "output_type": "display_data",
          "data": {
            "text/plain": [
              "\u001b[1m Total params: \u001b[0m\u001b[38;5;34m1,173\u001b[0m (4.58 KB)\n"
            ],
            "text/html": [
              "<pre style=\"white-space:pre;overflow-x:auto;line-height:normal;font-family:Menlo,'DejaVu Sans Mono',consolas,'Courier New',monospace\"><span style=\"font-weight: bold\"> Total params: </span><span style=\"color: #00af00; text-decoration-color: #00af00\">1,173</span> (4.58 KB)\n",
              "</pre>\n"
            ]
          },
          "metadata": {}
        },
        {
          "output_type": "display_data",
          "data": {
            "text/plain": [
              "\u001b[1m Trainable params: \u001b[0m\u001b[38;5;34m1,173\u001b[0m (4.58 KB)\n"
            ],
            "text/html": [
              "<pre style=\"white-space:pre;overflow-x:auto;line-height:normal;font-family:Menlo,'DejaVu Sans Mono',consolas,'Courier New',monospace\"><span style=\"font-weight: bold\"> Trainable params: </span><span style=\"color: #00af00; text-decoration-color: #00af00\">1,173</span> (4.58 KB)\n",
              "</pre>\n"
            ]
          },
          "metadata": {}
        },
        {
          "output_type": "display_data",
          "data": {
            "text/plain": [
              "\u001b[1m Non-trainable params: \u001b[0m\u001b[38;5;34m0\u001b[0m (0.00 B)\n"
            ],
            "text/html": [
              "<pre style=\"white-space:pre;overflow-x:auto;line-height:normal;font-family:Menlo,'DejaVu Sans Mono',consolas,'Courier New',monospace\"><span style=\"font-weight: bold\"> Non-trainable params: </span><span style=\"color: #00af00; text-decoration-color: #00af00\">0</span> (0.00 B)\n",
              "</pre>\n"
            ]
          },
          "metadata": {}
        },
        {
          "output_type": "stream",
          "name": "stdout",
          "text": [
            "Epoch 1/20\n",
            "\u001b[1m409/409\u001b[0m \u001b[32m━━━━━━━━━━━━━━━━━━━━\u001b[0m\u001b[37m\u001b[0m \u001b[1m23s\u001b[0m 47ms/step - accuracy: 0.5451 - loss: 0.6931 - val_accuracy: 0.7177 - val_loss: 0.5764\n",
            "Epoch 2/20\n",
            "\u001b[1m409/409\u001b[0m \u001b[32m━━━━━━━━━━━━━━━━━━━━\u001b[0m\u001b[37m\u001b[0m \u001b[1m19s\u001b[0m 43ms/step - accuracy: 0.7374 - loss: 0.5297 - val_accuracy: 0.7697 - val_loss: 0.4733\n",
            "Epoch 3/20\n",
            "\u001b[1m409/409\u001b[0m \u001b[32m━━━━━━━━━━━━━━━━━━━━\u001b[0m\u001b[37m\u001b[0m \u001b[1m19s\u001b[0m 46ms/step - accuracy: 0.7948 - loss: 0.4448 - val_accuracy: 0.7898 - val_loss: 0.4413\n",
            "Epoch 4/20\n",
            "\u001b[1m409/409\u001b[0m \u001b[32m━━━━━━━━━━━━━━━━━━━━\u001b[0m\u001b[37m\u001b[0m \u001b[1m18s\u001b[0m 43ms/step - accuracy: 0.8060 - loss: 0.4183 - val_accuracy: 0.8018 - val_loss: 0.4189\n",
            "Epoch 5/20\n",
            "\u001b[1m409/409\u001b[0m \u001b[32m━━━━━━━━━━━━━━━━━━━━\u001b[0m\u001b[37m\u001b[0m \u001b[1m19s\u001b[0m 46ms/step - accuracy: 0.8172 - loss: 0.4010 - val_accuracy: 0.8088 - val_loss: 0.4062\n",
            "Epoch 6/20\n",
            "\u001b[1m409/409\u001b[0m \u001b[32m━━━━━━━━━━━━━━━━━━━━\u001b[0m\u001b[37m\u001b[0m \u001b[1m20s\u001b[0m 44ms/step - accuracy: 0.8210 - loss: 0.3897 - val_accuracy: 0.8155 - val_loss: 0.3982\n",
            "Epoch 7/20\n",
            "\u001b[1m409/409\u001b[0m \u001b[32m━━━━━━━━━━━━━━━━━━━━\u001b[0m\u001b[37m\u001b[0m \u001b[1m18s\u001b[0m 44ms/step - accuracy: 0.8261 - loss: 0.3817 - val_accuracy: 0.8174 - val_loss: 0.3936\n",
            "Epoch 8/20\n",
            "\u001b[1m409/409\u001b[0m \u001b[32m━━━━━━━━━━━━━━━━━━━━\u001b[0m\u001b[37m\u001b[0m \u001b[1m18s\u001b[0m 45ms/step - accuracy: 0.8280 - loss: 0.3757 - val_accuracy: 0.8198 - val_loss: 0.3909\n",
            "Epoch 9/20\n",
            "\u001b[1m409/409\u001b[0m \u001b[32m━━━━━━━━━━━━━━━━━━━━\u001b[0m\u001b[37m\u001b[0m \u001b[1m20s\u001b[0m 43ms/step - accuracy: 0.8310 - loss: 0.3709 - val_accuracy: 0.8235 - val_loss: 0.3896\n",
            "Epoch 10/20\n",
            "\u001b[1m409/409\u001b[0m \u001b[32m━━━━━━━━━━━━━━━━━━━━\u001b[0m\u001b[37m\u001b[0m \u001b[1m21s\u001b[0m 45ms/step - accuracy: 0.8330 - loss: 0.3672 - val_accuracy: 0.8241 - val_loss: 0.3888\n",
            "Epoch 11/20\n",
            "\u001b[1m409/409\u001b[0m \u001b[32m━━━━━━━━━━━━━━━━━━━━\u001b[0m\u001b[37m\u001b[0m \u001b[1m19s\u001b[0m 46ms/step - accuracy: 0.8337 - loss: 0.3642 - val_accuracy: 0.8229 - val_loss: 0.3883\n",
            "Epoch 12/20\n",
            "\u001b[1m409/409\u001b[0m \u001b[32m━━━━━━━━━━━━━━━━━━━━\u001b[0m\u001b[37m\u001b[0m \u001b[1m18s\u001b[0m 43ms/step - accuracy: 0.8346 - loss: 0.3618 - val_accuracy: 0.8235 - val_loss: 0.3882\n",
            "Epoch 13/20\n",
            "\u001b[1m409/409\u001b[0m \u001b[32m━━━━━━━━━━━━━━━━━━━━\u001b[0m\u001b[37m\u001b[0m \u001b[1m17s\u001b[0m 42ms/step - accuracy: 0.8338 - loss: 0.3598 - val_accuracy: 0.8226 - val_loss: 0.3881\n",
            "Epoch 14/20\n",
            "\u001b[1m409/409\u001b[0m \u001b[32m━━━━━━━━━━━━━━━━━━━━\u001b[0m\u001b[37m\u001b[0m \u001b[1m19s\u001b[0m 45ms/step - accuracy: 0.8354 - loss: 0.3581 - val_accuracy: 0.8220 - val_loss: 0.3879\n",
            "Epoch 15/20\n",
            "\u001b[1m409/409\u001b[0m \u001b[32m━━━━━━━━━━━━━━━━━━━━\u001b[0m\u001b[37m\u001b[0m \u001b[1m17s\u001b[0m 43ms/step - accuracy: 0.8369 - loss: 0.3567 - val_accuracy: 0.8217 - val_loss: 0.3885\n",
            "Epoch 16/20\n",
            "\u001b[1m409/409\u001b[0m \u001b[32m━━━━━━━━━━━━━━━━━━━━\u001b[0m\u001b[37m\u001b[0m \u001b[1m18s\u001b[0m 43ms/step - accuracy: 0.8366 - loss: 0.3556 - val_accuracy: 0.8210 - val_loss: 0.3890\n",
            "Epoch 17/20\n",
            "\u001b[1m409/409\u001b[0m \u001b[32m━━━━━━━━━━━━━━━━━━━━\u001b[0m\u001b[37m\u001b[0m \u001b[1m19s\u001b[0m 46ms/step - accuracy: 0.8369 - loss: 0.3546 - val_accuracy: 0.8207 - val_loss: 0.3894\n",
            "Epoch 18/20\n",
            "\u001b[1m409/409\u001b[0m \u001b[32m━━━━━━━━━━━━━━━━━━━━\u001b[0m\u001b[37m\u001b[0m \u001b[1m19s\u001b[0m 43ms/step - accuracy: 0.8378 - loss: 0.3537 - val_accuracy: 0.8204 - val_loss: 0.3896\n",
            "Epoch 19/20\n",
            "\u001b[1m409/409\u001b[0m \u001b[32m━━━━━━━━━━━━━━━━━━━━\u001b[0m\u001b[37m\u001b[0m \u001b[1m19s\u001b[0m 46ms/step - accuracy: 0.8379 - loss: 0.3530 - val_accuracy: 0.8204 - val_loss: 0.3896\n",
            "Epoch 20/20\n",
            "\u001b[1m409/409\u001b[0m \u001b[32m━━━━━━━━━━━━━━━━━━━━\u001b[0m\u001b[37m\u001b[0m \u001b[1m18s\u001b[0m 43ms/step - accuracy: 0.8399 - loss: 0.3523 - val_accuracy: 0.8204 - val_loss: 0.3896\n"
          ]
        }
      ]
    },
    {
      "cell_type": "markdown",
      "source": [
        "Experiment 1"
      ],
      "metadata": {
        "id": "qhepOnD4owiw"
      }
    },
    {
      "cell_type": "code",
      "source": [
        "import pandas\n",
        "import numpy as np\n",
        "import tensorflow as tf\n",
        "\n",
        "# download data\n",
        "dataframe = pandas.read_csv('https://raw.githubusercontent.com/bryankolaczkowski/ALS3200C/main/mbiome.data.csv')\n",
        "\n",
        "# create train-validate split\n",
        "train_dataframe = dataframe.sample(frac=0.8, random_state=827847)\n",
        "valid_dataframe = dataframe.drop(train_dataframe.index)\n",
        "\n",
        "# extract explanatory variables\n",
        "dta_ids = [ x for x in dataframe.columns if x.find('DTA') == 0 ]\n",
        "train_x = train_dataframe[dta_ids].to_numpy()\n",
        "valid_x = valid_dataframe[dta_ids].to_numpy()\n",
        "\n",
        "# add 'location' to sequence data\n",
        "loc = np.linspace(start=-2.5, stop=+2.5, num=train_x.shape[1])\n",
        "train_x = np.stack([ train_x, np.array([loc]*train_x.shape[0]) ], axis=-1)\n",
        "valid_x = np.stack([ valid_x, np.array([loc]*valid_x.shape[0]) ], axis=-1)\n",
        "\n",
        "# extract labels\n",
        "train_y = train_dataframe['LBL0'].to_numpy()\n",
        "valid_y = valid_dataframe['LBL0'].to_numpy()\n",
        "\n",
        "# package data into tensorflow dataset\n",
        "train_data = tf.data.Dataset.from_tensor_slices((train_x, train_y)).batch(32)\n",
        "valid_data = tf.data.Dataset.from_tensor_slices((valid_x, valid_y)).batch(32)\n",
        "\n",
        "## build model\n",
        "repdim = 4  # internal representational dimensionality\n",
        "\n",
        "# input and linear projection\n",
        "inlayer = tf.keras.Input(shape=(256,2))\n",
        "proj    = tf.keras.layers.Dense(units=repdim)(inlayer)\n",
        "\n",
        "# multi‑head attention block\n",
        "mha1 = tf.keras.layers.MultiHeadAttention(num_heads=1, key_dim=repdim)(proj, proj, proj)\n",
        "res1 = tf.keras.layers.Add()([proj, mha1])\n",
        "nrm1 = tf.keras.layers.LayerNormalization()(res1)\n",
        "\n",
        "# feed‑forward block\n",
        "ffa1 = tf.keras.layers.Dense(units=repdim, activation=tf.keras.activations.relu)(nrm1)\n",
        "ffb1 = tf.keras.layers.Dense(units=repdim)(ffa1)\n",
        "res2 = tf.keras.layers.Add()([nrm1, ffb1])\n",
        "nrm2 = tf.keras.layers.LayerNormalization()(res2)\n",
        "\n",
        "# classification block\n",
        "flt     = tf.keras.layers.Flatten()(nrm2)\n",
        "outlayer = tf.keras.layers.Dense(units=1, activation=tf.keras.activations.sigmoid)(flt)\n",
        "\n",
        "model = tf.keras.Model(inputs=inlayer, outputs=outlayer)\n",
        "\n",
        "model.summary()\n",
        "\n",
        "## compile model\n",
        "model.compile(optimizer=tf.keras.optimizers.Adam(),\n",
        "              loss=tf.keras.losses.BinaryCrossentropy(),\n",
        "              metrics=['accuracy'])\n",
        "\n",
        "## fit model\n",
        "history = model.fit(train_data,\n",
        "                    epochs=20,\n",
        "                    validation_data=valid_data)"
      ],
      "metadata": {
        "id": "RvG0DGo1f6a_"
      },
      "execution_count": null,
      "outputs": []
    }
  ]
}